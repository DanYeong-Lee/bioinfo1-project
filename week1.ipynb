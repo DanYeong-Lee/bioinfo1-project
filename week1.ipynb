{
 "cells": [
  {
   "cell_type": "markdown",
   "metadata": {
    "id": "Oe_54MZrEi4y"
   },
   "source": [
    "## Transcript count table 마련하기\n",
    "\n",
    "제공된 alignment와 annotation 파일들을 이용해서 transcript별 read count를 구해봅니다. 실제 연구에서는 multi-mapping 등을 고려해야 하지만, 여기서는 단순화해서 모두 무시합니다. 데이터가 있는 곳으로 이동해서 작업합시다."
   ]
  },
  {
   "cell_type": "code",
   "execution_count": null,
   "metadata": {
    "id": "5OrnDxegFAip",
    "vscode": {
     "languageId": "python"
    }
   },
   "outputs": [],
   "source": [
    "!featureCounts -a gencode.gtf -o read-counts.txt *.bam "
   ]
  },
  {
   "cell_type": "markdown",
   "metadata": {
    "id": "b2yJztZvGl9Q"
   },
   "source": [
    "결과를 pandas로 읽어와 봅니다."
   ]
  },
  {
   "cell_type": "code",
   "execution_count": 4,
   "metadata": {
    "id": "BMyNT3ARFAWi",
    "vscode": {
     "languageId": "python"
    }
   },
   "outputs": [
    {
     "data": {
      "text/html": [
       "<div>\n",
       "<style scoped>\n",
       "    .dataframe tbody tr th:only-of-type {\n",
       "        vertical-align: middle;\n",
       "    }\n",
       "\n",
       "    .dataframe tbody tr th {\n",
       "        vertical-align: top;\n",
       "    }\n",
       "\n",
       "    .dataframe thead th {\n",
       "        text-align: right;\n",
       "    }\n",
       "</style>\n",
       "<table border=\"1\" class=\"dataframe\">\n",
       "  <thead>\n",
       "    <tr style=\"text-align: right;\">\n",
       "      <th></th>\n",
       "      <th>Chr</th>\n",
       "      <th>Start</th>\n",
       "      <th>End</th>\n",
       "      <th>Strand</th>\n",
       "      <th>Length</th>\n",
       "      <th>CLIP-35L33G.bam</th>\n",
       "      <th>RNA-control.bam</th>\n",
       "      <th>RNA-siLin28a.bam</th>\n",
       "      <th>RNA-siLuc.bam</th>\n",
       "      <th>RPF-siLin28a.bam</th>\n",
       "      <th>RPF-siLuc.bam</th>\n",
       "    </tr>\n",
       "    <tr>\n",
       "      <th>Geneid</th>\n",
       "      <th></th>\n",
       "      <th></th>\n",
       "      <th></th>\n",
       "      <th></th>\n",
       "      <th></th>\n",
       "      <th></th>\n",
       "      <th></th>\n",
       "      <th></th>\n",
       "      <th></th>\n",
       "      <th></th>\n",
       "      <th></th>\n",
       "    </tr>\n",
       "  </thead>\n",
       "  <tbody>\n",
       "    <tr>\n",
       "      <th>ENSMUSG00000102693.2</th>\n",
       "      <td>chr1</td>\n",
       "      <td>3143476</td>\n",
       "      <td>3144545</td>\n",
       "      <td>+</td>\n",
       "      <td>1070</td>\n",
       "      <td>0</td>\n",
       "      <td>0</td>\n",
       "      <td>0</td>\n",
       "      <td>0</td>\n",
       "      <td>0</td>\n",
       "      <td>0</td>\n",
       "    </tr>\n",
       "    <tr>\n",
       "      <th>ENSMUSG00000064842.3</th>\n",
       "      <td>chr1</td>\n",
       "      <td>3172239</td>\n",
       "      <td>3172348</td>\n",
       "      <td>+</td>\n",
       "      <td>110</td>\n",
       "      <td>0</td>\n",
       "      <td>0</td>\n",
       "      <td>0</td>\n",
       "      <td>0</td>\n",
       "      <td>0</td>\n",
       "      <td>0</td>\n",
       "    </tr>\n",
       "    <tr>\n",
       "      <th>ENSMUSG00000051951.6</th>\n",
       "      <td>chr1;chr1;chr1;chr1;chr1;chr1;chr1</td>\n",
       "      <td>3276124;3276746;3283662;3283832;3284705;349192...</td>\n",
       "      <td>3277540;3277540;3285855;3286567;3287191;349212...</td>\n",
       "      <td>-;-;-;-;-;-;-</td>\n",
       "      <td>6094</td>\n",
       "      <td>4</td>\n",
       "      <td>1</td>\n",
       "      <td>1</td>\n",
       "      <td>1</td>\n",
       "      <td>0</td>\n",
       "      <td>0</td>\n",
       "    </tr>\n",
       "    <tr>\n",
       "      <th>ENSMUSG00000102851.2</th>\n",
       "      <td>chr1</td>\n",
       "      <td>3322980</td>\n",
       "      <td>3323459</td>\n",
       "      <td>+</td>\n",
       "      <td>480</td>\n",
       "      <td>3</td>\n",
       "      <td>0</td>\n",
       "      <td>0</td>\n",
       "      <td>0</td>\n",
       "      <td>0</td>\n",
       "      <td>0</td>\n",
       "    </tr>\n",
       "    <tr>\n",
       "      <th>ENSMUSG00000103377.2</th>\n",
       "      <td>chr1</td>\n",
       "      <td>3435954</td>\n",
       "      <td>3438772</td>\n",
       "      <td>-</td>\n",
       "      <td>2819</td>\n",
       "      <td>0</td>\n",
       "      <td>0</td>\n",
       "      <td>0</td>\n",
       "      <td>0</td>\n",
       "      <td>0</td>\n",
       "      <td>0</td>\n",
       "    </tr>\n",
       "  </tbody>\n",
       "</table>\n",
       "</div>"
      ],
      "text/plain": [
       "                                                     Chr  \\\n",
       "Geneid                                                     \n",
       "ENSMUSG00000102693.2                                chr1   \n",
       "ENSMUSG00000064842.3                                chr1   \n",
       "ENSMUSG00000051951.6  chr1;chr1;chr1;chr1;chr1;chr1;chr1   \n",
       "ENSMUSG00000102851.2                                chr1   \n",
       "ENSMUSG00000103377.2                                chr1   \n",
       "\n",
       "                                                                  Start  \\\n",
       "Geneid                                                                    \n",
       "ENSMUSG00000102693.2                                            3143476   \n",
       "ENSMUSG00000064842.3                                            3172239   \n",
       "ENSMUSG00000051951.6  3276124;3276746;3283662;3283832;3284705;349192...   \n",
       "ENSMUSG00000102851.2                                            3322980   \n",
       "ENSMUSG00000103377.2                                            3435954   \n",
       "\n",
       "                                                                    End  \\\n",
       "Geneid                                                                    \n",
       "ENSMUSG00000102693.2                                            3144545   \n",
       "ENSMUSG00000064842.3                                            3172348   \n",
       "ENSMUSG00000051951.6  3277540;3277540;3285855;3286567;3287191;349212...   \n",
       "ENSMUSG00000102851.2                                            3323459   \n",
       "ENSMUSG00000103377.2                                            3438772   \n",
       "\n",
       "                             Strand  Length  CLIP-35L33G.bam  RNA-control.bam  \\\n",
       "Geneid                                                                          \n",
       "ENSMUSG00000102693.2              +    1070                0                0   \n",
       "ENSMUSG00000064842.3              +     110                0                0   \n",
       "ENSMUSG00000051951.6  -;-;-;-;-;-;-    6094                4                1   \n",
       "ENSMUSG00000102851.2              +     480                3                0   \n",
       "ENSMUSG00000103377.2              -    2819                0                0   \n",
       "\n",
       "                      RNA-siLin28a.bam  RNA-siLuc.bam  RPF-siLin28a.bam  \\\n",
       "Geneid                                                                    \n",
       "ENSMUSG00000102693.2                 0              0                 0   \n",
       "ENSMUSG00000064842.3                 0              0                 0   \n",
       "ENSMUSG00000051951.6                 1              1                 0   \n",
       "ENSMUSG00000102851.2                 0              0                 0   \n",
       "ENSMUSG00000103377.2                 0              0                 0   \n",
       "\n",
       "                      RPF-siLuc.bam  \n",
       "Geneid                               \n",
       "ENSMUSG00000102693.2              0  \n",
       "ENSMUSG00000064842.3              0  \n",
       "ENSMUSG00000051951.6              0  \n",
       "ENSMUSG00000102851.2              0  \n",
       "ENSMUSG00000103377.2              0  "
      ]
     },
     "execution_count": 4,
     "metadata": {},
     "output_type": "execute_result"
    }
   ],
   "source": [
    "import pandas as pd\n",
    "cnts = pd.read_csv('data/read_counts.txt', sep='\\t', comment='#', index_col=0)\n",
    "cnts.head()"
   ]
  },
  {
   "cell_type": "markdown",
   "metadata": {
    "id": "NyrUZ7WBPAmv"
   },
   "source": [
    "이제 한 번 대충 그림을 그려 봅니다."
   ]
  },
  {
   "cell_type": "code",
   "execution_count": 5,
   "metadata": {
    "id": "YlSZiJgVPAZS",
    "vscode": {
     "languageId": "python"
    }
   },
   "outputs": [
    {
     "data": {
      "text/html": [
       "<div>\n",
       "<style scoped>\n",
       "    .dataframe tbody tr th:only-of-type {\n",
       "        vertical-align: middle;\n",
       "    }\n",
       "\n",
       "    .dataframe tbody tr th {\n",
       "        vertical-align: top;\n",
       "    }\n",
       "\n",
       "    .dataframe thead th {\n",
       "        text-align: right;\n",
       "    }\n",
       "</style>\n",
       "<table border=\"1\" class=\"dataframe\">\n",
       "  <thead>\n",
       "    <tr style=\"text-align: right;\">\n",
       "      <th></th>\n",
       "      <th>Chr</th>\n",
       "      <th>Start</th>\n",
       "      <th>End</th>\n",
       "      <th>Strand</th>\n",
       "      <th>Length</th>\n",
       "      <th>CLIP-35L33G.bam</th>\n",
       "      <th>RNA-control.bam</th>\n",
       "      <th>RNA-siLin28a.bam</th>\n",
       "      <th>RNA-siLuc.bam</th>\n",
       "      <th>RPF-siLin28a.bam</th>\n",
       "      <th>RPF-siLuc.bam</th>\n",
       "      <th>clip_enrichment</th>\n",
       "      <th>rden_change</th>\n",
       "    </tr>\n",
       "    <tr>\n",
       "      <th>Geneid</th>\n",
       "      <th></th>\n",
       "      <th></th>\n",
       "      <th></th>\n",
       "      <th></th>\n",
       "      <th></th>\n",
       "      <th></th>\n",
       "      <th></th>\n",
       "      <th></th>\n",
       "      <th></th>\n",
       "      <th></th>\n",
       "      <th></th>\n",
       "      <th></th>\n",
       "      <th></th>\n",
       "    </tr>\n",
       "  </thead>\n",
       "  <tbody>\n",
       "    <tr>\n",
       "      <th>ENSMUSG00000102693.2</th>\n",
       "      <td>chr1</td>\n",
       "      <td>3143476</td>\n",
       "      <td>3144545</td>\n",
       "      <td>+</td>\n",
       "      <td>1070</td>\n",
       "      <td>0</td>\n",
       "      <td>0</td>\n",
       "      <td>0</td>\n",
       "      <td>0</td>\n",
       "      <td>0</td>\n",
       "      <td>0</td>\n",
       "      <td>NaN</td>\n",
       "      <td>NaN</td>\n",
       "    </tr>\n",
       "    <tr>\n",
       "      <th>ENSMUSG00000064842.3</th>\n",
       "      <td>chr1</td>\n",
       "      <td>3172239</td>\n",
       "      <td>3172348</td>\n",
       "      <td>+</td>\n",
       "      <td>110</td>\n",
       "      <td>0</td>\n",
       "      <td>0</td>\n",
       "      <td>0</td>\n",
       "      <td>0</td>\n",
       "      <td>0</td>\n",
       "      <td>0</td>\n",
       "      <td>NaN</td>\n",
       "      <td>NaN</td>\n",
       "    </tr>\n",
       "    <tr>\n",
       "      <th>ENSMUSG00000051951.6</th>\n",
       "      <td>chr1;chr1;chr1;chr1;chr1;chr1;chr1</td>\n",
       "      <td>3276124;3276746;3283662;3283832;3284705;349192...</td>\n",
       "      <td>3277540;3277540;3285855;3286567;3287191;349212...</td>\n",
       "      <td>-;-;-;-;-;-;-</td>\n",
       "      <td>6094</td>\n",
       "      <td>4</td>\n",
       "      <td>1</td>\n",
       "      <td>1</td>\n",
       "      <td>1</td>\n",
       "      <td>0</td>\n",
       "      <td>0</td>\n",
       "      <td>4.0</td>\n",
       "      <td>NaN</td>\n",
       "    </tr>\n",
       "    <tr>\n",
       "      <th>ENSMUSG00000102851.2</th>\n",
       "      <td>chr1</td>\n",
       "      <td>3322980</td>\n",
       "      <td>3323459</td>\n",
       "      <td>+</td>\n",
       "      <td>480</td>\n",
       "      <td>3</td>\n",
       "      <td>0</td>\n",
       "      <td>0</td>\n",
       "      <td>0</td>\n",
       "      <td>0</td>\n",
       "      <td>0</td>\n",
       "      <td>inf</td>\n",
       "      <td>NaN</td>\n",
       "    </tr>\n",
       "    <tr>\n",
       "      <th>ENSMUSG00000103377.2</th>\n",
       "      <td>chr1</td>\n",
       "      <td>3435954</td>\n",
       "      <td>3438772</td>\n",
       "      <td>-</td>\n",
       "      <td>2819</td>\n",
       "      <td>0</td>\n",
       "      <td>0</td>\n",
       "      <td>0</td>\n",
       "      <td>0</td>\n",
       "      <td>0</td>\n",
       "      <td>0</td>\n",
       "      <td>NaN</td>\n",
       "      <td>NaN</td>\n",
       "    </tr>\n",
       "  </tbody>\n",
       "</table>\n",
       "</div>"
      ],
      "text/plain": [
       "                                                     Chr  \\\n",
       "Geneid                                                     \n",
       "ENSMUSG00000102693.2                                chr1   \n",
       "ENSMUSG00000064842.3                                chr1   \n",
       "ENSMUSG00000051951.6  chr1;chr1;chr1;chr1;chr1;chr1;chr1   \n",
       "ENSMUSG00000102851.2                                chr1   \n",
       "ENSMUSG00000103377.2                                chr1   \n",
       "\n",
       "                                                                  Start  \\\n",
       "Geneid                                                                    \n",
       "ENSMUSG00000102693.2                                            3143476   \n",
       "ENSMUSG00000064842.3                                            3172239   \n",
       "ENSMUSG00000051951.6  3276124;3276746;3283662;3283832;3284705;349192...   \n",
       "ENSMUSG00000102851.2                                            3322980   \n",
       "ENSMUSG00000103377.2                                            3435954   \n",
       "\n",
       "                                                                    End  \\\n",
       "Geneid                                                                    \n",
       "ENSMUSG00000102693.2                                            3144545   \n",
       "ENSMUSG00000064842.3                                            3172348   \n",
       "ENSMUSG00000051951.6  3277540;3277540;3285855;3286567;3287191;349212...   \n",
       "ENSMUSG00000102851.2                                            3323459   \n",
       "ENSMUSG00000103377.2                                            3438772   \n",
       "\n",
       "                             Strand  Length  CLIP-35L33G.bam  RNA-control.bam  \\\n",
       "Geneid                                                                          \n",
       "ENSMUSG00000102693.2              +    1070                0                0   \n",
       "ENSMUSG00000064842.3              +     110                0                0   \n",
       "ENSMUSG00000051951.6  -;-;-;-;-;-;-    6094                4                1   \n",
       "ENSMUSG00000102851.2              +     480                3                0   \n",
       "ENSMUSG00000103377.2              -    2819                0                0   \n",
       "\n",
       "                      RNA-siLin28a.bam  RNA-siLuc.bam  RPF-siLin28a.bam  \\\n",
       "Geneid                                                                    \n",
       "ENSMUSG00000102693.2                 0              0                 0   \n",
       "ENSMUSG00000064842.3                 0              0                 0   \n",
       "ENSMUSG00000051951.6                 1              1                 0   \n",
       "ENSMUSG00000102851.2                 0              0                 0   \n",
       "ENSMUSG00000103377.2                 0              0                 0   \n",
       "\n",
       "                      RPF-siLuc.bam  clip_enrichment  rden_change  \n",
       "Geneid                                                             \n",
       "ENSMUSG00000102693.2              0              NaN          NaN  \n",
       "ENSMUSG00000064842.3              0              NaN          NaN  \n",
       "ENSMUSG00000051951.6              0              4.0          NaN  \n",
       "ENSMUSG00000102851.2              0              inf          NaN  \n",
       "ENSMUSG00000103377.2              0              NaN          NaN  "
      ]
     },
     "execution_count": 5,
     "metadata": {},
     "output_type": "execute_result"
    }
   ],
   "source": [
    "cnts['clip_enrichment'] = cnts['CLIP-35L33G.bam'] / cnts['RNA-control.bam']\n",
    "cnts['rden_change'] = (cnts['RPF-siLin28a.bam'] / cnts['RNA-siLin28a.bam']) / (cnts['RPF-siLuc.bam'] / cnts['RNA-siLuc.bam'])\n",
    "cnts.head()"
   ]
  },
  {
   "cell_type": "code",
   "execution_count": 7,
   "metadata": {
    "id": "vU3ce_HEFALl",
    "vscode": {
     "languageId": "python"
    }
   },
   "outputs": [
    {
     "name": "stderr",
     "output_type": "stream",
     "text": [
      "/data/project/danyoung/miniconda3/envs/binfo1/lib/python3.10/site-packages/pandas/core/arraylike.py:397: RuntimeWarning: divide by zero encountered in log2\n",
      "  result = getattr(ufunc, method)(*inputs, **kwargs)\n"
     ]
    },
    {
     "data": {
      "text/plain": [
       "<matplotlib.collections.PathCollection at 0x7fe3a9f986d0>"
      ]
     },
     "execution_count": 7,
     "metadata": {},
     "output_type": "execute_result"
    },
    {
     "data": {
      "image/png": "[encoded data removed]",
      "text/plain": [
       "<Figure size 360x360 with 1 Axes>"
      ]
     },
     "metadata": {
      "needs_background": "light"
     },
     "output_type": "display_data"
    }
   ],
   "source": [
    "from matplotlib import pyplot as plt\n",
    "import numpy as np\n",
    "\n",
    "fig, ax = plt.subplots(1, 1, figsize=(5, 5))\n",
    "ax.scatter(np.log2(cnts['clip_enrichment']),\n",
    "           np.log2(cnts['rden_change']))"
   ]
  },
  {
   "cell_type": "markdown",
   "metadata": {
    "id": "ksVjIL10mV_v"
   },
   "source": [
    "이 그림에는 문제가 많이 있습니다. 논문의 그림처럼 한 번 만들어 봅시다~"
   ]
  },
  {
   "cell_type": "code",
   "execution_count": null,
   "metadata": {
    "id": "RZ-EV3s5X3u5",
    "vscode": {
     "languageId": "python"
    }
   },
   "outputs": [],
   "source": []
  },
  {
   "cell_type": "markdown",
   "metadata": {
    "id": "sf6EJJ60Qbxg"
   },
   "source": [
    "## Protein localization 반영하기\n",
    "\n",
    "논문 그림에서는 protein localization을 반영해서 색으로 나타냈습니다. 이것을 한 번 구현해 봅시다. 각 gene product의 localization을 따로 구하려면 좀 귀찮기 때문에 미리 모아 두었습니다. UniProt에서 매핑된 데이터를 토대로 아주 명확한 것만 일부 정리한 것입니다. 이것도 마찬가지로 처음엔 에러가 나기도 하니까, 다시 실행해보면 거의 잘 됩니다~"
   ]
  },
  {
   "cell_type": "code",
   "execution_count": null,
   "metadata": {
    "id": "ivb1q7_f-gl4",
    "vscode": {
     "languageId": "python"
    }
   },
   "outputs": [],
   "source": [
    "import ssl\n",
    "ssl._create_default_https_context = ssl._create_unverified_context\n",
    "mouselocal = pd.read_csv('https://hyeshik.qbio.io/binfo/mouselocalization-20210507.txt', sep='\\t')\n",
    "mouselocal.head()"
   ]
  },
  {
   "cell_type": "markdown",
   "metadata": {
    "id": "Q9vgSzeiQxDU"
   },
   "source": [
    "이제 이 localization 데이터와 위에서 만든 scatter를 결합해서 논문 그림과 비슷하게 만들어 봅시다."
   ]
  },
  {
   "cell_type": "code",
   "execution_count": null,
   "metadata": {
    "id": "aPPW73t4X3pp",
    "vscode": {
     "languageId": "python"
    }
   },
   "outputs": [],
   "source": []
  }
 ],
 "metadata": {
  "colab": {
   "collapsed_sections": [],
   "name": "CoLab-TermProj.ipynb",
   "provenance": []
  },
  "kernelspec": {
   "display_name": "binfo1",
   "language": "python",
   "name": "binfo1"
  },
  "language_info": {
   "codemirror_mode": {
    "name": "ipython",
    "version": 3
   },
   "file_extension": ".py",
   "mimetype": "text/x-python",
   "name": "python",
   "nbconvert_exporter": "python",
   "pygments_lexer": "ipython3",
   "version": "3.10.4"
  }
 },
 "nbformat": 4,
 "nbformat_minor": 2
}
