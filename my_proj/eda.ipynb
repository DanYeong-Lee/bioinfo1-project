{
 "cells": [
  {
   "cell_type": "markdown",
   "metadata": {},
   "source": [
    "- 본격적으로 모델 training하기 전에, 이게 쉬운 task인지 궁금해서 간단히 PCA 찍어보기로 함.\n",
    "    - 각 sequence는 간단하게 k-mer frequency로 vectorize\n",
    "- Test data는 건드리지 않음."
   ]
  },
  {
   "cell_type": "code",
   "execution_count": 1,
   "metadata": {},
   "outputs": [],
   "source": [
    "import os\n",
    "os.environ[\"OMP_NUM_THREADS\"] = \"4\" # export OMP_NUM_THREADS=4\n",
    "os.environ[\"OPENBLAS_NUM_THREADS\"] = \"4\" # export OPENBLAS_NUM_THREADS=4 \n",
    "os.environ[\"MKL_NUM_THREADS\"] = \"6\" # export MKL_NUM_THREADS=6\n",
    "os.environ[\"VECLIB_MAXIMUM_THREADS\"] = \"4\" # export VECLIB_MAXIMUM_THREADS=4\n",
    "os.environ[\"NUMEXPR_NUM_THREADS\"] = \"6\" # export NUMEXPR_NUM_THREADS=6"
   ]
  },
  {
   "cell_type": "code",
   "execution_count": 2,
   "metadata": {},
   "outputs": [],
   "source": [
    "import numpy as np\n",
    "import pandas as pd\n",
    "import itertools\n",
    "from sklearn.decomposition import PCA\n",
    "from sklearn.preprocessing import StandardScaler\n",
    "from sklearn.manifold import TSNE\n",
    "import matplotlib.pyplot as plt"
   ]
  },
  {
   "cell_type": "code",
   "execution_count": 3,
   "metadata": {},
   "outputs": [
    {
     "data": {
      "text/html": [
       "<div>\n",
       "<style scoped>\n",
       "    .dataframe tbody tr th:only-of-type {\n",
       "        vertical-align: middle;\n",
       "    }\n",
       "\n",
       "    .dataframe tbody tr th {\n",
       "        vertical-align: top;\n",
       "    }\n",
       "\n",
       "    .dataframe thead th {\n",
       "        text-align: right;\n",
       "    }\n",
       "</style>\n",
       "<table border=\"1\" class=\"dataframe\">\n",
       "  <thead>\n",
       "    <tr style=\"text-align: right;\">\n",
       "      <th></th>\n",
       "      <th>seq</th>\n",
       "      <th>target</th>\n",
       "    </tr>\n",
       "  </thead>\n",
       "  <tbody>\n",
       "    <tr>\n",
       "      <th>0</th>\n",
       "      <td>CTCGGGCTATCTCTTAGCGCA</td>\n",
       "      <td>0</td>\n",
       "    </tr>\n",
       "    <tr>\n",
       "      <th>1</th>\n",
       "      <td>TTGCTTTAGCTCGAAGTGCAC</td>\n",
       "      <td>0</td>\n",
       "    </tr>\n",
       "    <tr>\n",
       "      <th>2</th>\n",
       "      <td>CTCAGATAGTGGAGGAGGACC</td>\n",
       "      <td>1</td>\n",
       "    </tr>\n",
       "    <tr>\n",
       "      <th>3</th>\n",
       "      <td>CCAACCAGGGCTCGGTCTTTT</td>\n",
       "      <td>0</td>\n",
       "    </tr>\n",
       "    <tr>\n",
       "      <th>4</th>\n",
       "      <td>AGAAAAACAAGCAGGTTCTTG</td>\n",
       "      <td>1</td>\n",
       "    </tr>\n",
       "    <tr>\n",
       "      <th>...</th>\n",
       "      <td>...</td>\n",
       "      <td>...</td>\n",
       "    </tr>\n",
       "    <tr>\n",
       "      <th>26176</th>\n",
       "      <td>TCTTTCCCTTACTTCCAGATA</td>\n",
       "      <td>0</td>\n",
       "    </tr>\n",
       "    <tr>\n",
       "      <th>26177</th>\n",
       "      <td>CAGCATCTTTCACGTGGTTAA</td>\n",
       "      <td>0</td>\n",
       "    </tr>\n",
       "    <tr>\n",
       "      <th>26178</th>\n",
       "      <td>ATTACATCTTCGGCGTCCTAA</td>\n",
       "      <td>0</td>\n",
       "    </tr>\n",
       "    <tr>\n",
       "      <th>26179</th>\n",
       "      <td>TGGACTGACTCGATGTCCTCG</td>\n",
       "      <td>0</td>\n",
       "    </tr>\n",
       "    <tr>\n",
       "      <th>26180</th>\n",
       "      <td>CTAAAGCCCCATTCTTAGGTC</td>\n",
       "      <td>0</td>\n",
       "    </tr>\n",
       "  </tbody>\n",
       "</table>\n",
       "<p>26181 rows × 2 columns</p>\n",
       "</div>"
      ],
      "text/plain": [
       "                         seq  target\n",
       "0      CTCGGGCTATCTCTTAGCGCA       0\n",
       "1      TTGCTTTAGCTCGAAGTGCAC       0\n",
       "2      CTCAGATAGTGGAGGAGGACC       1\n",
       "3      CCAACCAGGGCTCGGTCTTTT       0\n",
       "4      AGAAAAACAAGCAGGTTCTTG       1\n",
       "...                      ...     ...\n",
       "26176  TCTTTCCCTTACTTCCAGATA       0\n",
       "26177  CAGCATCTTTCACGTGGTTAA       0\n",
       "26178  ATTACATCTTCGGCGTCCTAA       0\n",
       "26179  TGGACTGACTCGATGTCCTCG       0\n",
       "26180  CTAAAGCCCCATTCTTAGGTC       0\n",
       "\n",
       "[26181 rows x 2 columns]"
      ]
     },
     "execution_count": 3,
     "metadata": {},
     "output_type": "execute_result"
    }
   ],
   "source": [
    "df = pd.read_csv(\"data/train.csv\")\n",
    "df"
   ]
  },
  {
   "cell_type": "code",
   "execution_count": 4,
   "metadata": {},
   "outputs": [],
   "source": [
    "k = 4\n",
    "\n",
    "kmers = [\"\".join(v) for v in itertools.product(*[\"ACGT\"] * k)]\n",
    "kmer2idx = {kmer:i for i, kmer in enumerate(kmers)}\n",
    "\n",
    "def to_kmer_vector(seq, k=5):\n",
    "    v = np.zeros(4 ** k)\n",
    "    for i in range(len(seq) - k + 1):\n",
    "        kmer = seq[i: i+k]\n",
    "        \n",
    "        v[kmer2idx[kmer]] += 1\n",
    "    \n",
    "    return v\n",
    "\n",
    "kmer_vectors = []\n",
    "for seq in df.seq.values:\n",
    "    kmer_vectors.append(to_kmer_vector(seq, k=k))\n",
    "    \n",
    "kmer_vectors = np.vstack(kmer_vectors)"
   ]
  },
  {
   "cell_type": "code",
   "execution_count": 13,
   "metadata": {},
   "outputs": [
    {
     "data": {
      "text/plain": [
       "array([[-3.12671279, -1.82736185],\n",
       "       [-2.2637574 ,  0.32423482],\n",
       "       [-1.41791316,  2.96426773],\n",
       "       ...,\n",
       "       [-3.59229598, -3.17151204],\n",
       "       [-0.23603544, -1.44564604],\n",
       "       [-0.9988803 , -3.2307878 ]])"
      ]
     },
     "execution_count": 13,
     "metadata": {},
     "output_type": "execute_result"
    }
   ],
   "source": [
    "pc[df.index[df.target == 1]]"
   ]
  },
  {
   "cell_type": "code",
   "execution_count": 24,
   "metadata": {},
   "outputs": [
    {
     "data": {
      "image/png": "[encoded data removed]",
      "text/plain": [
       "<Figure size 432x288 with 1 Axes>"
      ]
     },
     "metadata": {
      "needs_background": "light"
     },
     "output_type": "display_data"
    }
   ],
   "source": [
    "pca = PCA(n_components=2)\n",
    "pc = pca.fit_transform(StandardScaler().fit_transform(kmer_vectors))\n",
    "\n",
    "plt.scatter(pc[df.index[df.target == 0], 0], pc[df.index[df.target == 0], 1], s=2, label=\"Negative\", c=\"r\")\n",
    "plt.scatter(pc[df.index[df.target == 1], 0], pc[df.index[df.target == 1], 1], s=2, label=\"Positive\", c=\"b\")\n",
    "plt.legend()\n",
    "plt.show()"
   ]
  },
  {
   "cell_type": "markdown",
   "metadata": {},
   "source": [
    "- 간단한 k-mer frequency vector로 어느 정도 cluster가 나뉘기는 하는데, 깔끔하게는 나뉘지 않음."
   ]
  },
  {
   "cell_type": "code",
   "execution_count": null,
   "metadata": {},
   "outputs": [],
   "source": []
  }
 ],
 "metadata": {
  "kernelspec": {
   "display_name": "binfo1",
   "language": "python",
   "name": "binfo1"
  },
  "language_info": {
   "codemirror_mode": {
    "name": "ipython",
    "version": 3
   },
   "file_extension": ".py",
   "mimetype": "text/x-python",
   "name": "python",
   "nbconvert_exporter": "python",
   "pygments_lexer": "ipython3",
   "version": "3.7.12"
  }
 },
 "nbformat": 4,
 "nbformat_minor": 2
}
